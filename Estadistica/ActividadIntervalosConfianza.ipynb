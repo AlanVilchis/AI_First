{
 "cells": [
  {
   "cell_type": "markdown",
   "metadata": {},
   "source": [
    "### Actividad: Intervalos de confianza\n",
    "Alan Ricardo Vilchis Arceo A01640260\n",
    "\n",
    "Problema 1:\n",
    "\n",
    "Un estudio de calidad se está realizando para evaluar el diámetro promedio de tuercas producidas por una fábrica. Se toma una muestra aleatoria de 75 tuercas y se encuentra que el diámetro promedio en la muestra es de 8.5 mm, con una desviación estándar muestral de 0.3 mm. Calcular un intervalo de confianza del 80% para la media real del diámetro de las tuercas producidas."
   ]
  },
  {
   "cell_type": "code",
   "execution_count": 30,
   "metadata": {},
   "outputs": [
    {
     "data": {
      "text/plain": [
       "0.9"
      ]
     },
     "execution_count": 30,
     "metadata": {},
     "output_type": "execute_result"
    }
   ],
   "source": [
    "import math\n",
    "confianza = 1 - .80 \n",
    "z = 1 - confianza/2\n",
    "z"
   ]
  },
  {
   "cell_type": "code",
   "execution_count": 31,
   "metadata": {},
   "outputs": [
    {
     "data": {
      "text/plain": [
       "1.2850000000000001"
      ]
     },
     "execution_count": 31,
     "metadata": {},
     "output_type": "execute_result"
    }
   ],
   "source": [
    "#Buscar valor critico con el valor de z segun la tabla de distribuicion de la normal\n",
    "valorCritico_problemaUno = (1.28 + 1.29)/2\n",
    "valorCritico_problemaUno"
   ]
  },
  {
   "cell_type": "code",
   "execution_count": 32,
   "metadata": {},
   "outputs": [
    {
     "name": "stdout",
     "output_type": "stream",
     "text": [
      "El intervalo de confianza para el problema 1 es de  [8.45548629424548, 8.54451370575452]\n"
     ]
    }
   ],
   "source": [
    "sigma_problemaUno = 0.3\n",
    "n = 75\n",
    "miuMuestra = 8.5\n",
    "limiteInferior = miuMuestra - valorCritico_problemaUno*(sigma_problemaUno/math.sqrt(n))\n",
    "limiteSuperior = miuMuestra + valorCritico_problemaUno*(sigma_problemaUno/math.sqrt(n))\n",
    "limites = [limiteInferior,limiteSuperior]\n",
    "print('El intervalo de confianza para el problema 1 es de ',limites)"
   ]
  },
  {
   "cell_type": "markdown",
   "metadata": {},
   "source": [
    "Problema 2:\n",
    "\n",
    "Un investigador está estudiando la cantidad de tiempo que los conductores pasan en el tráfico durante las horas pico. Se toma una muestra aleatoria de 200 conductores y se encuentra que el tiempo promedio en la muestra es de 45 minutos, con una desviación estándar muestral de 10 minutos. Calcular un intervalo de confianza del 85% para la media real del tiempo que los conductores pasan en el tráfico."
   ]
  },
  {
   "cell_type": "code",
   "execution_count": 33,
   "metadata": {},
   "outputs": [
    {
     "data": {
      "text/plain": [
       "0.925"
      ]
     },
     "execution_count": 33,
     "metadata": {},
     "output_type": "execute_result"
    }
   ],
   "source": [
    "confianza = 1 - .85 \n",
    "z = 1 - confianza/2\n",
    "z"
   ]
  },
  {
   "cell_type": "code",
   "execution_count": 34,
   "metadata": {},
   "outputs": [
    {
     "name": "stdout",
     "output_type": "stream",
     "text": [
      "El intervalo de confianza para el problema 2 es de  [43.98176623509137, 46.01823376490863] A01640260\n"
     ]
    }
   ],
   "source": [
    "#Buscar valor critico con el valor de z segun la tabla de distribuicion de la normal\n",
    "valorCritico = 1.44\n",
    "sigma = 10\n",
    "n = 200\n",
    "miuMuestra = 45\n",
    "limiteInferior = miuMuestra - valorCritico*(sigma/math.sqrt(n))\n",
    "limiteSuperior = miuMuestra + valorCritico*(sigma/math.sqrt(n))\n",
    "limites = [limiteInferior,limiteSuperior]\n",
    "print('El intervalo de confianza para el problema 2 es de ',limites, 'A01640260')"
   ]
  },
  {
   "cell_type": "markdown",
   "metadata": {},
   "source": [
    "Problema 3:\n",
    "\n",
    "Determina cuantas muestras se deben tener para los problemas 1 y 2 si se desea que el ancho del intervalo de confianza sea 1.5.\n",
    "\n"
   ]
  },
  {
   "cell_type": "code",
   "execution_count": 35,
   "metadata": {},
   "outputs": [
    {
     "name": "stdout",
     "output_type": "stream",
     "text": [
      "El numero de observaciones para tener un intervalo de 1.5 es  0.264196\n"
     ]
    }
   ],
   "source": [
    "#Problema 3 resolviendo problema 1\n",
    "n_problemaUno = ((2*( valorCritico_problemaUno * sigma_problemaUno))/1.5)**2\n",
    "print('El numero de observaciones para tener un intervalo de 1.5 es ',n_problemaUno)"
   ]
  },
  {
   "cell_type": "code",
   "execution_count": 36,
   "metadata": {},
   "outputs": [
    {
     "name": "stdout",
     "output_type": "stream",
     "text": [
      "El numero de observaciones para tener un intervalo de 1.5 es  368.64\n"
     ]
    }
   ],
   "source": [
    "#Problema 3 resolviendo problema 2\n",
    "n_problemaDos = ((2*( valorCritico * sigma))/1.5)**2\n",
    "print('El numero de observaciones para tener un intervalo de 1.5 es ',n_problemaDos2)"
   ]
  }
 ],
 "metadata": {
  "kernelspec": {
   "display_name": "Python 3",
   "language": "python",
   "name": "python3"
  },
  "language_info": {
   "codemirror_mode": {
    "name": "ipython",
    "version": 3
   },
   "file_extension": ".py",
   "mimetype": "text/x-python",
   "name": "python",
   "nbconvert_exporter": "python",
   "pygments_lexer": "ipython3",
   "version": "3.11.3"
  },
  "orig_nbformat": 4
 },
 "nbformat": 4,
 "nbformat_minor": 2
}
